{
 "cells": [
  {
   "cell_type": "code",
   "execution_count": 1,
   "id": "42894e73",
   "metadata": {},
   "outputs": [],
   "source": [
    "import numpy as np\n",
    "import matplotlib.pyplot as plt\n",
    "%matplotlib inline"
   ]
  },
  {
   "cell_type": "code",
   "execution_count": 26,
   "id": "61f046e5",
   "metadata": {},
   "outputs": [
    {
     "name": "stdout",
     "output_type": "stream",
     "text": [
      "6.08579072567951e-05 5999.99998224133\n"
     ]
    },
    {
     "data": {
      "image/png": "[encoded data removed]",
      "text/plain": [
       "<Figure size 432x288 with 1 Axes>"
      ]
     },
     "metadata": {
      "needs_background": "light"
     },
     "output_type": "display_data"
    }
   ],
   "source": [
    "# Want equation: y = 6000x\n",
    "\n",
    "def gradient_descent( x, y ):\n",
    "    theta0 = 0\n",
    "    theta1 = 1\n",
    "    learning_rate = 0.1\n",
    "    for i in range( 1000 ):\n",
    "        y_pred = theta0 + theta1 * x\n",
    "        # cost_fun = 1 / ( 2 * len( x ) ) * np.sum( [val ** 2 for val in ( y_pred - y )] )\n",
    "        theta0_der = theta0 - learning_rate * np.sum( y_pred - y ) / len( x )\n",
    "        theta1_der = theta1 - learning_rate * np.sum( ( y_pred - y ) * x ) / len( x )\n",
    "        theta0 = theta0_der\n",
    "        theta1 = theta1_der\n",
    "    return theta0, theta1\n",
    "\n",
    "    \n",
    "num_rooms = np.array( [1, 1, 3, 2, 3, 3, 5, 1, 4, 3, 2, 5, 4] )\n",
    "price = np.array( [6000, 6000, 18000, 12000, 18000, 18000, 30000, 6000, 24000, 18000, 12000, 30000, 24000] )\n",
    "\n",
    "theta0, theta1 = gradient_descent( num_rooms, price )\n",
    "print( theta0, theta1 )\n",
    "\n",
    "fit_line = [theta1 * i + theta0 for i in num_rooms]\n",
    "plt.scatter( num_rooms, price, color = \"red\", marker = 'x' )\n",
    "plt.plot( num_rooms, fit_line )\n",
    "# print( theta0, theta1 )\n",
    "plt.show( )"
   ]
  },
  {
   "cell_type": "code",
   "execution_count": null,
   "id": "73b6e4a8",
   "metadata": {},
   "outputs": [],
   "source": []
  }
 ],
 "metadata": {
  "kernelspec": {
   "display_name": "Python 3 (ipykernel)",
   "language": "python",
   "name": "python3"
  },
  "language_info": {
   "codemirror_mode": {
    "name": "ipython",
    "version": 3
   },
   "file_extension": ".py",
   "mimetype": "text/x-python",
   "name": "python",
   "nbconvert_exporter": "python",
   "pygments_lexer": "ipython3",
   "version": "3.9.7"
  }
 },
 "nbformat": 4,
 "nbformat_minor": 5
}
