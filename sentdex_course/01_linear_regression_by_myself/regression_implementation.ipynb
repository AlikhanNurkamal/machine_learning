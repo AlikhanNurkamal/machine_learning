{
 "cells": [
  {
   "cell_type": "code",
   "execution_count": 1,
   "id": "f562f134",
   "metadata": {},
   "outputs": [],
   "source": [
    "import numpy as np"
   ]
  },
  {
   "cell_type": "code",
   "execution_count": 2,
   "id": "f8da4b62",
   "metadata": {},
   "outputs": [],
   "source": [
    "def calculate_slope( x, y ):\n",
    "    m = ( ( np.mean( x ) * np.mean( y ) - np.mean( x * y ) ) /\n",
    "          ( np.mean( x ) ** 2 - np.mean( x * x ) ) )\n",
    "    return m\n",
    "\n",
    "\n",
    "def calculate_intercept( x, y, m ):\n",
    "    b = np.mean( y ) - m * np.mean( x )\n",
    "    return b\n",
    "\n",
    "\n",
    "x = np.array( [1, 2, 3, 4, 5, 6], dtype = np.float64 )\n",
    "y = np.array( [5, 4, 6, 5, 6, 7], dtype = np.float64 )"
   ]
  },
  {
   "cell_type": "code",
   "execution_count": 3,
   "id": "ddfadafa",
   "metadata": {},
   "outputs": [
    {
     "data": {
      "image/png": "[encoded data removed]",
      "text/plain": [
       "<Figure size 432x288 with 1 Axes>"
      ]
     },
     "metadata": {
      "needs_background": "light"
     },
     "output_type": "display_data"
    }
   ],
   "source": [
    "import matplotlib.pyplot as plt\n",
    "%matplotlib inline\n",
    "\n",
    "plt.scatter( x, y, color = \"red\", marker = 'x' )\n",
    "plt.show( )"
   ]
  },
  {
   "cell_type": "code",
   "execution_count": 4,
   "id": "f8a7d238",
   "metadata": {},
   "outputs": [
    {
     "name": "stdout",
     "output_type": "stream",
     "text": [
      "y = 0.42857142857142866x + 4.0\n"
     ]
    }
   ],
   "source": [
    "m = calculate_slope( x, y )\n",
    "b = calculate_intercept( x, y, m )\n",
    "\n",
    "print( \"y =\", str( m ) + \"x + \" + str( b ) )"
   ]
  },
  {
   "cell_type": "code",
   "execution_count": 5,
   "id": "95235aa5",
   "metadata": {},
   "outputs": [
    {
     "data": {
      "image/png": "[encoded data removed]",
      "text/plain": [
       "<Figure size 432x288 with 1 Axes>"
      ]
     },
     "metadata": {
      "needs_background": "light"
     },
     "output_type": "display_data"
    }
   ],
   "source": [
    "plt.scatter( x, y, color = \"red\", marker = 'x' )\n",
    "plt.plot( x, ( m * x + b ), color = \"blue\" )\n",
    "plt.show( )"
   ]
  },
  {
   "cell_type": "markdown",
   "id": "cc9fd222",
   "metadata": {},
   "source": [
    "## Now, I want to know how good my best-fit line is. Here comes the r² - coefficient of determination - equation that determines the proportion of variance in the dependent variable that can be explained by the independent variable. In other words, r-squared shows how well the data fit the regression model (the goodness of fit)."
   ]
  },
  {
   "attachments": {
    "coefficient-of-determination-r-squared.png": {
     "image/png": "[encoded data removed]"
    }
   },
   "cell_type": "markdown",
   "id": "b2057212",
   "metadata": {},
   "source": [
    "![coefficient-of-determination-r-squared.png](attachment:coefficient-of-determination-r-squared.png)"
   ]
  },
  {
   "cell_type": "markdown",
   "id": "0815d177",
   "metadata": {},
   "source": [
    "### SE = squared error\n",
    "### y (hat) = predicted values of y"
   ]
  },
  {
   "cell_type": "code",
   "execution_count": 6,
   "id": "ae5cc265",
   "metadata": {},
   "outputs": [
    {
     "name": "stdout",
     "output_type": "stream",
     "text": [
      "[4.42857143 4.85714286 5.28571429 5.71428571 6.14285714 6.57142857]\n"
     ]
    },
    {
     "data": {
      "text/plain": [
       "0.5844155844155845"
      ]
     },
     "execution_count": 6,
     "metadata": {},
     "output_type": "execute_result"
    }
   ],
   "source": [
    "def calculate_r_squared( y_true, y_pred ):\n",
    "    y_mean = [np.mean( y_true ) for i in y_true ]\n",
    "    se_pred = np.sum( ( y_pred - y_true ) ** 2 )\n",
    "    se_mean = np.sum( ( y_mean - y_true ) ** 2 )\n",
    "    return ( 1 - ( se_pred / se_mean ) )\n",
    "\n",
    "\n",
    "y_pred = m * x + b\n",
    "print( y_pred )\n",
    "accuracy = calculate_r_squared( y, y_pred )\n",
    "accuracy"
   ]
  },
  {
   "cell_type": "markdown",
   "id": "8cc02622",
   "metadata": {},
   "source": [
    "## Now, I will calculate m and b using Gradient Descent method."
   ]
  },
  {
   "cell_type": "code",
   "execution_count": 7,
   "id": "87369422",
   "metadata": {},
   "outputs": [],
   "source": [
    "def gradient_descent( x, y ):\n",
    "    m = len( x )\n",
    "    learning_rate = 0.1\n",
    "    theta0 = 0\n",
    "    theta1 = 0\n",
    "    iterations = 1000\n",
    "    for i in range( iterations ):\n",
    "        y_pred = theta0 + theta1 * x\n",
    "        cost = 1 / ( 2 * m ) * np.sum( ( y_pred - y ) ** 2 )\n",
    "        temp0 = theta0 - ( 1 / m * learning_rate * np.sum( y_pred - y ) )\n",
    "        temp1 = theta1 - ( 1 / m * learning_rate * np.sum( ( y_pred - y ) * x ) )\n",
    "        theta0 = temp0\n",
    "        theta1 = temp1\n",
    "        \n",
    "    return cost, theta0, theta1\n",
    "\n",
    "\n",
    "cost_val, b_1, m_1 = gradient_descent( x, y )"
   ]
  },
  {
   "cell_type": "code",
   "execution_count": 8,
   "id": "f934f07c",
   "metadata": {},
   "outputs": [
    {
     "name": "stdout",
     "output_type": "stream",
     "text": [
      "[4.4285714  4.85714284 5.28571427 5.71428571 6.14285715 6.57142859]\n",
      "0.5844155844155845\n"
     ]
    }
   ],
   "source": [
    "y_pred_1 = m_1 * x + b_1\n",
    "print( y_pred_1 )\n",
    "print( calculate_r_squared( y, y_pred ) )"
   ]
  },
  {
   "cell_type": "markdown",
   "id": "4e7d77b2",
   "metadata": {},
   "source": [
    "## Let's create my own dataset."
   ]
  },
  {
   "cell_type": "code",
   "execution_count": 55,
   "id": "9d2d1209",
   "metadata": {},
   "outputs": [],
   "source": [
    "import random\n",
    "\n",
    "def create_dataset( number, variance, step = 2, correlation = False ):\n",
    "    val = 1\n",
    "    y = []\n",
    "    for i in range( number ):\n",
    "        y_val = val + random.randrange( -variance, variance )\n",
    "        y.append( y_val )\n",
    "        if correlation and correlation == \"pos\":\n",
    "            val += step\n",
    "        elif correlation and correlation == \"neg\":\n",
    "            val -= step\n",
    "    X = [i for i in range( len( y ) )]\n",
    "    return np.array( X ), np.array( y )\n",
    "\n",
    "\n",
    "X, y = create_dataset( 200, 10, 2, \"pos\" )"
   ]
  },
  {
   "cell_type": "code",
   "execution_count": 56,
   "id": "406cd16a",
   "metadata": {},
   "outputs": [
    {
     "data": {
      "image/png": "[encoded data removed]",
      "text/plain": [
       "<Figure size 432x288 with 1 Axes>"
      ]
     },
     "metadata": {
      "needs_background": "light"
     },
     "output_type": "display_data"
    }
   ],
   "source": [
    "plt.scatter( X, y, color = \"red\", marker = 'x' )\n",
    "plt.show( )"
   ]
  },
  {
   "cell_type": "code",
   "execution_count": 57,
   "id": "62bbe2a7",
   "metadata": {},
   "outputs": [
    {
     "data": {
      "image/png": "[encoded data removed]",
      "text/plain": [
       "<Figure size 432x288 with 1 Axes>"
      ]
     },
     "metadata": {
      "needs_background": "light"
     },
     "output_type": "display_data"
    }
   ],
   "source": [
    "m = calculate_slope( X, y )\n",
    "b = calculate_intercept( X, y, m )\n",
    "plt.scatter( X, y, color = \"red\", marker = 'x' )\n",
    "plt.plot( X, m * X + b, color = \"blue\" )\n",
    "plt.show( )"
   ]
  },
  {
   "cell_type": "code",
   "execution_count": 58,
   "id": "8e859ec5",
   "metadata": {},
   "outputs": [
    {
     "data": {
      "text/plain": [
       "0.9977257483982019"
      ]
     },
     "execution_count": 58,
     "metadata": {},
     "output_type": "execute_result"
    }
   ],
   "source": [
    "calculate_r_squared( y, m * X + b )"
   ]
  },
  {
   "cell_type": "code",
   "execution_count": null,
   "id": "05135c9d",
   "metadata": {},
   "outputs": [],
   "source": []
  }
 ],
 "metadata": {
  "kernelspec": {
   "display_name": "Python 3 (ipykernel)",
   "language": "python",
   "name": "python3"
  },
  "language_info": {
   "codemirror_mode": {
    "name": "ipython",
    "version": 3
   },
   "file_extension": ".py",
   "mimetype": "text/x-python",
   "name": "python",
   "nbconvert_exporter": "python",
   "pygments_lexer": "ipython3",
   "version": "3.9.7"
  }
 },
 "nbformat": 4,
 "nbformat_minor": 5
}
